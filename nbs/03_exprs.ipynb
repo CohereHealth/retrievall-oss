{
 "cells": [
  {
   "cell_type": "markdown",
   "metadata": {},
   "source": [
    "# Attribute Expressions\n",
    "For enriching or selecting chunks, `AttrExpr`s (attribute expressions) are used.\n",
    "\n",
    "`AttrExpr`s are user-definable classes that have a `__call__` function which accepts a `Chunks` as an input and returns a PyArrow `Array` as an output. This `Array` is then either added to chunk metadata or included as part of a PyArrow `Table`, depending on what context the expression is being used in. The usual pattern is to define parameters for the `AttrExpr` in its `__init__`, much like with `ChunkExpr`s:"
   ]
  },
  {
   "cell_type": "code",
   "execution_count": null,
   "metadata": {},
   "outputs": [],
   "source": [
    "import pyarrow as pa\n",
    "from retrievall.core import AttrExpr, Chunks\n",
    "\n",
    "\n",
    "class MyExampleExpr(AttrExpr):\n",
    "    def __init__(self, my_value: int):\n",
    "        self.my_value = my_value\n",
    "\n",
    "    def __call__(self, chunks: Chunks) -> pa.Array:\n",
    "        return pa.array([self.myvalue] * len(chunks))"
   ]
  },
  {
   "cell_type": "markdown",
   "metadata": {},
   "source": [
    "A fairly common pattern is for attribute expressions to accept other attribute expressions as arguments, since things like embeddings or frequency counts usually need to coalesce atoms into something like a single string per chunk to operate."
   ]
  },
  {
   "cell_type": "markdown",
   "metadata": {},
   "source": []
  }
 ],
 "metadata": {
  "keep_output": true,
  "kernelspec": {
   "display_name": ".venv",
   "language": "python",
   "name": "python3"
  },
  "language_info": {
   "codemirror_mode": {
    "name": "ipython",
    "version": 3
   },
   "file_extension": ".py",
   "mimetype": "text/x-python",
   "name": "python",
   "nbconvert_exporter": "python",
   "pygments_lexer": "ipython3",
   "version": "3.10.14"
  }
 },
 "nbformat": 4,
 "nbformat_minor": 2
}
