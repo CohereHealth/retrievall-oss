{
 "cells": [
  {
   "cell_type": "markdown",
   "metadata": {},
   "source": [
    "# Filters\n",
    "Filters remove unwanted (e.g. irrelevant) chunks, based on the chunk' attributes."
   ]
  },
  {
   "cell_type": "markdown",
   "metadata": {},
   "source": [
    "For this notebook, we'll use a small example corpus, defined below as `corpus`"
   ]
  },
  {
   "cell_type": "code",
   "execution_count": null,
   "metadata": {},
   "outputs": [
    {
     "data": {
      "text/plain": [
       "<retrievall.core.Corpus at 0x10a4a2050>"
      ]
     },
     "execution_count": null,
     "metadata": {},
     "output_type": "execute_result"
    }
   ],
   "source": [
    "import io\n",
    "from pyarrow.csv import read_csv\n",
    "from retrievall.ocr import corpus_from_tesseract_table\n",
    "\n",
    "csv_str = (\n",
    "    \"level,page_num,block_num,par_num,line_num,word_num,left,top,width,height,conf,text\\n\"\n",
    "    \"1,1,0,0,0,0,0,0,300,400,-1,\\n\"\n",
    "    \"2,1,1,0,0,0,20,20,110,90,-1,\\n\"\n",
    "    \"3,1,1,1,0,0,20,20,180,30,-1,\\n\"\n",
    "    \"4,1,1,1,1,0,20,20,110,10,-1,\\n\"\n",
    "    \"5,1,1,1,1,1,20,20,30,10,96.063751,The\\n\"\n",
    "    \"5,1,1,1,1,2,60,20,50,10,95.965691,(quick)\\n\"\n",
    "    \"4,1,1,1,2,0,20,40,200,10,-1,\\n\"\n",
    "    \"5,1,1,1,2,1,20,40,70,10,95.835831,[brown]\\n\"\n",
    "    \"5,1,1,1,2,2,100,40,30,10,94.899742,fox\\n\"\n",
    "    \"5,1,1,1,2,3,140,40,60,10,96.683357,jumps!\\n\"\n",
    "    \"3,1,1,2,0,0,20,80,90,30,-1,\\n\"\n",
    "    \"4,1,1,2,1,0,20,80,80,10,-1,\\n\"\n",
    "    \"5,1,1,2,1,1,20,80,40,10,96.912064,Over\\n\"\n",
    "    \"5,1,1,2,1,2,40,80,30,10,96.887390,the\\n\"\n",
    "    \"4,1,1,2,2,0,20,100,100,10,-1,\\n\"\n",
    "    \"5,1,1,2,2,1,20,100,60,10,90.893219,<lazy>\\n\"\n",
    "    \"5,1,1,2,2,2,90,100,30,10,96.538940,dog\\n\"\n",
    "    \"1,2,0,0,0,0,0,0,300,400,-1,\\n\"\n",
    "    \"2,2,1,0,0,0,20,20,110,90,-1,\\n\"\n",
    "    \"3,2,1,1,0,0,20,20,180,30,-1,\\n\"\n",
    "    \"4,2,1,1,1,0,20,20,110,10,-1,\\n\"\n",
    "    \"5,2,1,1,1,1,20,20,30,10,96.063751,The\\n\"\n",
    "    \"5,2,1,1,1,2,60,20,50,10,95.965691,~groovy\\n\"\n",
    "    \"4,2,1,1,2,0,20,40,200,10,-1,\\n\"\n",
    "    \"5,2,1,1,2,1,20,40,70,10,95.835831,minute!\\n\"\n",
    "    \"5,2,1,1,2,2,100,40,30,10,94.899742,dog\\n\"\n",
    "    \"5,2,1,1,2,3,140,40,60,10,96.683357,bounds\\n\"\n",
    "    \"3,2,1,2,0,0,20,80,90,30,-1,\\n\"\n",
    "    \"4,2,1,2,1,0,20,80,80,10,-1,\\n\"\n",
    "    \"5,2,1,2,1,1,20,80,40,10,96.912064,UPON\\n\"\n",
    "    \"5,2,1,2,1,2,40,80,30,10,96.887390,the\\n\"\n",
    "    \"4,2,1,2,2,0,20,100,100,10,-1,\\n\"\n",
    "    \"5,2,1,2,2,1,20,100,60,10,90.893219,sleepy\\n\"\n",
    "    \"5,2,1,2,2,2,90,100,30,10,96.538940,fox\\n\"\n",
    ")\n",
    "\n",
    "corpus = corpus_from_tesseract_table(\n",
    "    read_csv(io.BytesIO(csv_str.encode())), document_id=\"123\"\n",
    ")\n",
    "\n",
    "corpus"
   ]
  },
  {
   "cell_type": "markdown",
   "metadata": {},
   "source": [
    "## `ChunkFilter`s\n",
    "\n",
    "To filter chunks `ChunkFilter`s are used.\n",
    "\n",
    "`ChunkFilters`s are user-definable classes that have a `__call__` function which accepts a `Chunks` as an input and returns a `Chunks`. Generally, the input and output `Chunks` are identical except for a reduced number of chunks defined in the internal `chunks` table.\n",
    "\n",
    "If a `ChunkFilter` acts on a specific attribute, this needs to be part of its `__init__` function, since `__call__` does not allow any extra information to be passed except for the input `Chunks` object."
   ]
  },
  {
   "cell_type": "code",
   "execution_count": null,
   "metadata": {},
   "outputs": [],
   "source": [
    "from retrievall.core import ChunkFilter, Chunks\n",
    "\n",
    "\n",
    "class MyFilter(ChunkFilter):\n",
    "    \"\"\"\n",
    "    Filters out all but the first `n` chunks that happen to be\n",
    "    in the input.\n",
    "    \"\"\"\n",
    "\n",
    "    def __init__(self, n: int):\n",
    "        self.n = n\n",
    "\n",
    "    def __call__(self, chunks: Chunks) -> Chunks:\n",
    "        return Chunks(\n",
    "            corpus=chunks.corpus,\n",
    "            # Just grab whatever's at the top of the table\n",
    "            chunks=chunks.chunks[: self.n],\n",
    "            chunk_atoms=chunks.chunk_atoms,\n",
    "        )"
   ]
  },
  {
   "cell_type": "markdown",
   "metadata": {},
   "source": [
    "Like chunk and attribute expressions, `ChunkFilter`s can theoretically be used a few different ways. The idiomatic use is inside the `Chunks.filter` method:"
   ]
  },
  {
   "cell_type": "code",
   "execution_count": null,
   "metadata": {},
   "outputs": [
    {
     "data": {
      "text/plain": [
       "3"
      ]
     },
     "execution_count": null,
     "metadata": {},
     "output_type": "execute_result"
    }
   ],
   "source": [
    "len(corpus.chunk(\"line\").filter(MyFilter(3)))"
   ]
  },
  {
   "cell_type": "markdown",
   "metadata": {},
   "source": [
    "It can also be used standalone if you want:"
   ]
  },
  {
   "cell_type": "code",
   "execution_count": null,
   "metadata": {},
   "outputs": [
    {
     "name": "stdout",
     "output_type": "stream",
     "text": [
      "3\n",
      "4\n"
     ]
    }
   ],
   "source": [
    "# Separate instantation and calling:\n",
    "filt = MyFilter(3)\n",
    "\n",
    "print(len(filt(corpus.chunk(\"line\"))))\n",
    "\n",
    "# # One-liner\n",
    "print(len(MyFilter(4)(corpus.chunk(\"line\"))))"
   ]
  },
  {
   "cell_type": "markdown",
   "metadata": {},
   "source": [
    "## Existing filters\n",
    "While custom `ChunkFilters` can be defined, there are 3 built-in filters that likely cover the vast majority of retrieval use cases. These filters are:\n",
    "* `TopK`: Select the `k` chunks that have the highest value for a given `attr`. An optional keyword argument also allows you to flip this around and get the *lowest*-valued chunks.\n",
    "* `Threshold`: Select all chunks that are greater than or less than a given threshold. (Optionally inclusive or exclusive.)\n",
    "* `EqualTo`: Select all chunks that are equal to any value in a collection of input values. (The collecection can be one item long, to use this as a more traditional \"is equal\" kind of filter rather than an \"is in\" kind of filter.)\n",
    "\n",
    "These are sufficient to cover many use cases, but more may be added in the future."
   ]
  },
  {
   "cell_type": "markdown",
   "metadata": {},
   "source": []
  }
 ],
 "metadata": {
  "keep_output": true,
  "kernelspec": {
   "display_name": ".venv",
   "language": "python",
   "name": "python3"
  },
  "language_info": {
   "codemirror_mode": {
    "name": "ipython",
    "version": 3
   },
   "file_extension": ".py",
   "mimetype": "text/x-python",
   "name": "python",
   "nbconvert_exporter": "python",
   "pygments_lexer": "ipython3",
   "version": "3.10.14"
  }
 },
 "nbformat": 4,
 "nbformat_minor": 2
}
